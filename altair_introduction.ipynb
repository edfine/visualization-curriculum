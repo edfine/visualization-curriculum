{
 "cells": [
  {
   "attachments": {},
   "cell_type": "markdown",
   "metadata": {
    "colab_type": "text",
    "id": "YueLLjO8YJLK"
   },
   "source": [
    "# Introduction to Altair\n",
    "\n",
    "[Altair](https://altair-viz.github.io/) is a declarative statistical visualization library for Python. Altair offers a powerful and concise visualization grammar for quickly building a wide range of statistical graphics.\n",
    "\n",
    "By *declarative*, we mean that you can provide a high-level specification of *what* you want the visualization to include, in terms of *data*, *graphical marks*, and *encoding channels*, rather than having to specify *how* to implement the visualization in terms of for-loops, low-level drawing commands, *etc*. The key idea is that you declare links between data fields and visual encoding channels, such as the x-axis, y-axis, color, *etc*. The rest of the plot details are handled automatically. Building on this declarative plotting idea, a surprising range of simple to sophisticated visualizations can be created using a concise grammar.\n",
    "\n",
    "Altair is based on [Vega-Lite](https://vega.github.io/vega-lite/), a high-level grammar of interactive graphics. Altair provides a friendly Python [API (Application Programming Interface)](https://en.wikipedia.org/wiki/Application_programming_interface) that generates Vega-Lite specifications in [JSON (JavaScript Object Notation)](https://en.wikipedia.org/wiki/JSON) format. Environments such as Jupyter Notebooks, JupyterLab, and Colab can then take this specification and render it directly in the web browser. To learn more about the motivation and basic concepts behind Altair and Vega-Lite, watch the [Vega-Lite presentation video from OpenVisConf 2017](https://www.youtube.com/watch?v=9uaHRWj04D4).\n",
    "\n",
    "This notebook will guide you through the basic process of creating visualizations in Altair. First, you will need to make sure you have the Altair package and its dependencies installed (for more, see the [Altair installation documentation](https://altair-viz.github.io/getting_started/installation.html)), or you are using a notebook environment that includes the dependencies pre-installed."
   ]
  },
  {
   "cell_type": "markdown",
   "metadata": {
    "colab_type": "text",
    "id": "Wy1RJr6YaIWG"
   },
   "source": [
    "## Imports\n",
    "\n",
    "To start, we must import the necessary libraries: Pandas for data frames and Altair for visualization."
   ]
  },
  {
   "cell_type": "code",
   "execution_count": null,
   "metadata": {
    "colab": {},
    "colab_type": "code",
    "id": "zYMsJwmgJ4R7"
   },
   "outputs": [],
   "source": [
    "import pandas as pd\n",
    "import altair as alt"
   ]
  },
  {
   "cell_type": "markdown",
   "metadata": {},
   "source": [
    "## Renderers\n",
    "\n",
    "Depending on your environment, you may need to specify a [renderer](https://altair-viz.github.io/user_guide/display_frontends.html) for Altair. If you are using __JupyterLab__, __Jupyter Notebook__, or __Google Colab__ with a live Internet connection you should not need to do anything. Otherwise, please read the documentation for [Displaying Altair Charts](https://altair-viz.github.io/user_guide/display_frontends.html)."
   ]
  },
  {
   "cell_type": "markdown",
   "metadata": {
    "colab_type": "text",
    "id": "LBotwpgUaaXQ"
   },
   "source": [
    "## Data\n",
    "\n",
    "Data in Altair is built around the Pandas data frame, which consists of a set of named data *columns*. We will also regularly refer to data columns as data *fields*.\n",
    "\n",
    "When using Altair, datasets are commonly provided as data frames. Alternatively, Altair can also accept a URL to load a network-accessible dataset. As we will see, the named columns of the data frame are an essential piece of plotting with Altair.\n",
    "\n",
    "We will often use datasets from the [vega-datasets](https://github.com/vega/vega-datasets) repository. Some of these datasets are directly available as Pandas data frames:"
   ]
  },
  {
   "cell_type": "code",
   "execution_count": null,
   "metadata": {
    "colab": {
     "base_uri": "https://localhost:8080/",
     "height": 204
    },
    "colab_type": "code",
    "id": "M0Sp4rLibEZe",
    "outputId": "42a06146-8554-45fb-f2ac-1ec06a0b738d"
   },
   "outputs": [],
   "source": [
    "from vega_datasets import data  # import vega_datasets\n",
    "cars = data.cars()              # load cars data as a Pandas data frame\n",
    "cars.head()                     # display the first five rows"
   ]
  },
  {
   "cell_type": "markdown",
   "metadata": {
    "colab_type": "text",
    "id": "9Hjb_n7gbZgr"
   },
   "source": [
    "Datasets in the vega-datasets collection can also be accessed via URLs:"
   ]
  },
  {
   "cell_type": "code",
   "execution_count": null,
   "metadata": {
    "colab": {
     "base_uri": "https://localhost:8080/",
     "height": 34
    },
    "colab_type": "code",
    "id": "sbeBl1ESbd0T",
    "outputId": "b6a13a9f-07b2-4d9b-ab10-4eb3f8f8f262"
   },
   "outputs": [],
   "source": [
    "data.cars.url"
   ]
  },
  {
   "cell_type": "markdown",
   "metadata": {
    "colab_type": "text",
    "id": "Ukm_DAvKkFDk"
   },
   "source": [
    "Dataset URLs can be passed directly to Altair (for supported formats like JSON and [CSV](https://en.wikipedia.org/wiki/Comma-separated_values)), or loaded into a Pandas data frame like so:"
   ]
  },
  {
   "cell_type": "code",
   "execution_count": null,
   "metadata": {
    "colab": {
     "base_uri": "https://localhost:8080/",
     "height": 204
    },
    "colab_type": "code",
    "id": "6c6aC2DGj9oY",
    "outputId": "c6b5e94f-cefc-4298-d43d-f7676545030b"
   },
   "outputs": [],
   "source": [
    "pd.read_json(data.cars.url).head() # load JSON data into a data frame"
   ]
  },
  {
   "cell_type": "markdown",
   "metadata": {
    "colab_type": "text",
    "id": "GmX14naebrzG"
   },
   "source": [
    "For more information about data frames - and some useful transformations to prepare Pandas data frames for plotting with Altair! - see the [Specifying Data with Altair documentation](https://altair-viz.github.io/user_guide/data.html)."
   ]
  },
  {
   "cell_type": "markdown",
   "metadata": {
    "colab_type": "text",
    "id": "lTWpkCvO8sjI"
   },
   "source": [
    "### Weather Data\n",
    "\n",
    "Statistical visualization in Altair begins with [\"tidy\"](http://vita.had.co.nz/papers/tidy-data.html) data frames. Here, we'll start by creating a simple data frame (`df`) containing the average precipitation (`precip`) for a given `city` and `month` :"
   ]
  },
  {
   "cell_type": "code",
   "execution_count": null,
   "metadata": {
    "colab": {
     "base_uri": "https://localhost:8080/",
     "height": 328
    },
    "colab_type": "code",
    "id": "Zad2hV5G72j2",
    "outputId": "27129375-c1a3-429a-e4a4-f8ed2c5e0263"
   },
   "outputs": [],
   "source": [
    "df = pd.DataFrame({\n",
    "    'city': ['Seattle', 'Seattle', 'Seattle', 'New York', 'New York', 'New York', 'Chicago', 'Chicago', 'Chicago'],\n",
    "    'month': ['Apr', 'Aug', 'Dec', 'Apr', 'Aug', 'Dec', 'Apr', 'Aug', 'Dec'],\n",
    "    'precip': [2.68, 0.87, 5.31, 3.94, 4.13, 3.58, 3.62, 3.98, 2.56]\n",
    "})\n",
    "\n",
    "df"
   ]
  },
  {
   "cell_type": "markdown",
   "metadata": {
    "colab_type": "text",
    "id": "ac427IWdb7xx"
   },
   "source": [
    "## The Chart Object\n",
    "\n",
    "The fundamental object in Altair is the `Chart`, which takes a data frame as a single argument:"
   ]
  },
  {
   "cell_type": "code",
   "execution_count": null,
   "metadata": {
    "colab": {},
    "colab_type": "code",
    "id": "QqF4GKjDcG4y"
   },
   "outputs": [],
   "source": [
    "chart = alt.Chart(df)"
   ]
  },
  {
   "cell_type": "markdown",
   "metadata": {
    "colab_type": "text",
    "id": "9i5gX1tWcKAu"
   },
   "source": [
    "So far, we have defined the `Chart` object and passed it the simple data frame we generated above. We have not yet told the chart to *do* anything with the data."
   ]
  },
  {
   "cell_type": "markdown",
   "metadata": {
    "colab_type": "text",
    "id": "_z0gVCb8cNgx"
   },
   "source": [
    "## Marks and Encodings\n",
    "\n",
    "With a chart object in hand, we can now specify how we would like the data to be visualized. We first indicate what kind of graphical *mark* (geometric shape) we want to use to represent the data. We can set the `mark` attribute of the chart object using the the `Chart.mark_*` methods.\n",
    "\n",
    "For example, we can show the data as a point using `Chart.mark_point()`:"
   ]
  },
  {
   "cell_type": "code",
   "execution_count": null,
   "metadata": {
    "colab": {
     "base_uri": "https://localhost:8080/",
     "height": 52
    },
    "colab_type": "code",
    "id": "NmlAmwX4cXzE",
    "outputId": "960ad0d0-ed22-4ebb-eff6-c652068d5b1e"
   },
   "outputs": [],
   "source": [
    "alt.Chart(df).mark_point()"
   ]
  },
  {
   "cell_type": "markdown",
   "metadata": {
    "colab_type": "text",
    "id": "Gudr0jvVcgAi"
   },
   "source": [
    "Here the rendering consists of one point per row in the dataset, all plotted on top of each other, since we have not yet specified positions for these points.\n",
    "\n",
    "To visually separate the points, we can map various *encoding channels*, or *channels* for short, to fields in the dataset. For example, we could *encode* the field `city` of the data using the `y` channel, which represents the y-axis position of the points. To specify this, use the `encode` method:\n"
   ]
  },
  {
   "cell_type": "code",
   "execution_count": null,
   "metadata": {
    "colab": {
     "base_uri": "https://localhost:8080/",
     "height": 94
    },
    "colab_type": "code",
    "id": "lEWZ7mWTcrik",
    "outputId": "88da80a6-f46f-4fc6-c27e-f139e372f6ff"
   },
   "outputs": [],
   "source": [
    "alt.Chart(df).mark_point().encode(\n",
    "  y='city',\n",
    ")"
   ]
  },
  {
   "cell_type": "markdown",
   "metadata": {
    "colab_type": "text",
    "id": "wbHHAt-8czdt"
   },
   "source": [
    "The `encode()` method builds a key-value mapping between encoding channels (such as `x`, `y`, `color`, `shape`, `size`, *etc.*) to fields in the dataset, accessed by field name. For Pandas data frames, Altair automatically determines an appropriate data type for the mapped column, which in this case is the *nominal* type, indicating unordered, categorical values.\n",
    "\n",
    "Though we've now separated the data by one attribute, we still have multiple points overlapping within each category. Let's further separate these by adding an `x` encoding channel, mapped to the `'precip'` field:"
   ]
  },
  {
   "cell_type": "code",
   "execution_count": null,
   "metadata": {
    "colab": {
     "base_uri": "https://localhost:8080/",
     "height": 129
    },
    "colab_type": "code",
    "id": "gVbE3h7zdDsL",
    "outputId": "ec3f1aa3-b6e0-41c1-ee00-06f3a587613a"
   },
   "outputs": [],
   "source": [
    "alt.Chart(df).mark_point().encode(\n",
    "    x='precip',\n",
    "    y='city'\n",
    ")"
   ]
  },
  {
   "cell_type": "markdown",
   "metadata": {
    "colab_type": "text",
    "id": "Ya2UCgS7dSbS"
   },
   "source": [
    "_Seattle exhibits both the least-rainiest and most-rainiest months!_\n",
    "\n",
    "The data type of the `'precip'` field is again automatically inferred by Altair, and this time is treated as a *quantitative* type (that is, a real-valued number). We see that grid lines and appropriate axis titles are automatically added as well.\n",
    "\n",
    "Above we have specified key-value pairs using keyword arguments (`x='precip'`). In addition, Altair provides construction methods for encoding definitions, using the syntax `alt.X('precip')`. This alternative is useful for providing more parameters to an encoding, as we will see later in this notebook.\n",
    "\n"
   ]
  },
  {
   "cell_type": "code",
   "execution_count": null,
   "metadata": {
    "colab": {
     "base_uri": "https://localhost:8080/",
     "height": 129
    },
    "colab_type": "code",
    "id": "vBCCcBMxnfHW",
    "outputId": "691ce8df-1978-4b2f-eeb0-7d79a7d77db3"
   },
   "outputs": [],
   "source": [
    "alt.Chart(df).mark_point().encode(\n",
    "    alt.X('precip'),\n",
    "    alt.Y('city')\n",
    ")"
   ]
  },
  {
   "cell_type": "markdown",
   "metadata": {
    "colab_type": "text",
    "id": "-HeJcwblnl10"
   },
   "source": [
    "The two styles of specifying encodings can be interleaved: `x='precip', alt.Y('city')` is also a valid input to the `encode` function.\n",
    "\n",
    "In the examples above, the data type for each field is inferred automatically based on its type within the Pandas data frame. We can also explicitly indicate the data type to Altair by annotating the field name:\n",
    "\n",
    "- `'b:N'` indicates a *nominal* type (unordered, categorical data),\n",
    "- `'b:O'` indicates an *ordinal* type (rank-ordered data),\n",
    "- `'b:Q'` indicates a *quantitative* type (numerical data with meaningful magnitudes), and\n",
    "- `'b:T'` indicates a *temporal* type (date/time data)\n",
    "\n",
    "For example, `alt.X('precip:N')`.\n",
    "\n",
    "Explicit annotation of data types is necessary when data is loaded from an external URL directly by Vega-Lite (skipping Pandas entirely), or when we wish to use a type that differs from the type that was automatically inferred.\n",
    "\n",
    "What do you think will happen to our chart above if we treat `precip` as a nominal or ordinal variable, rather than a quantitative variable? _Modify the code above and find out!_\n",
    "\n",
    "We will take a closer look at data types and encoding channels in the next notebook of the [data visualization curriculum](https://github.com/uwdata/visualization-curriculum#data-visualization-curriculum)."
   ]
  },
  {
   "cell_type": "markdown",
   "metadata": {
    "colab_type": "text",
    "id": "RvSRRA64pY9_"
   },
   "source": [
    "## Data Transformation: Aggregation\n",
    "\n",
    "To allow for more flexibility in how data are visualized, Altair has a built-in syntax for *aggregation* of data. For example, we can compute the average of all values by specifying an aggregation function along with the field name:"
   ]
  },
  {
   "cell_type": "code",
   "execution_count": null,
   "metadata": {
    "colab": {
     "base_uri": "https://localhost:8080/",
     "height": 129
    },
    "colab_type": "code",
    "id": "trTABsxDpgKT",
    "outputId": "82847271-8dc6-4a2f-9496-de1d4ba4a58b"
   },
   "outputs": [],
   "source": [
    "alt.Chart(df).mark_point().encode(\n",
    "    x='average(precip)',\n",
    "    y='city'\n",
    ")"
   ]
  },
  {
   "cell_type": "markdown",
   "metadata": {
    "colab_type": "text",
    "id": "za5tU5qRpqkF"
   },
   "source": [
    "Now within each x-axis category, we see a single point reflecting the *average* of the values within that category.\n",
    "\n",
    "_Does Seattle really have the lowest average precipitation of these cities? (It does!) Still, how might this plot mislead? Which months are included? What counts as precipitation?_\n",
    "\n",
    "Altair supports a variety of aggregation functions, including `count`, `min` (minimum), `max` (maximum), `average`, `median`, and `stdev` (standard deviation). In a later notebook, we will take a tour of data transformations, including aggregation, sorting, filtering, and creation of new derived fields using calculation formulas."
   ]
  },
  {
   "cell_type": "markdown",
   "metadata": {
    "colab_type": "text",
    "id": "_qt-r1YsqbjG"
   },
   "source": [
    "## Changing the Mark Type\n",
    "\n",
    "Let's say we want to represent our aggregated values using rectangular bars rather than circular points. We can do this by replacing `Chart.mark_point` with `Chart.mark_bar`:"
   ]
  },
  {
   "cell_type": "code",
   "execution_count": null,
   "metadata": {
    "colab": {
     "base_uri": "https://localhost:8080/",
     "height": 129
    },
    "colab_type": "code",
    "id": "oPyDGea7p6XR",
    "outputId": "6e1c1a06-d0ad-4b82-c964-60b211b4f714"
   },
   "outputs": [],
   "source": [
    "alt.Chart(df).mark_bar().encode(\n",
    "    x='average(precip)',\n",
    "    y='city'\n",
    ")"
   ]
  },
  {
   "cell_type": "markdown",
   "metadata": {
    "colab_type": "text",
    "id": "i0ETgOZZp60k"
   },
   "source": [
    "Because the nominal field `a` is mapped to the `y`-axis, the result is a horizontal bar chart. To get a vertical bar chart, we can simply swap the `x` and `y` keywords:"
   ]
  },
  {
   "cell_type": "code",
   "execution_count": null,
   "metadata": {
    "colab": {
     "base_uri": "https://localhost:8080/",
     "height": 405
    },
    "colab_type": "code",
    "id": "h5CALzADqPIT",
    "outputId": "0d5d2a07-76d9-45a2-ea2f-a469730f802f"
   },
   "outputs": [],
   "source": [
    "alt.Chart(df).mark_bar().encode(\n",
    "    x='city',\n",
    "    y='average(precip)'\n",
    ")"
   ]
  },
  {
   "cell_type": "markdown",
   "metadata": {
    "colab_type": "text",
    "id": "xf46gXpjmubD"
   },
   "source": [
    "## Customizing a Visualization\n",
    "\n",
    "By default Altair / Vega-Lite make some choices about properties of the visualization, but these can be changed using methods to customize the look of the visualization. For example, we can specify the axis titles using the `axis` attribute of channel classes, we can modify scale properties using the `scale` attribute, and we can specify the color of the marking by setting the `color` keyword of the `Chart.mark_*` methods to any valid [CSS color string](https://developer.mozilla.org/en-US/docs/Web/CSS/color_value):"
   ]
  },
  {
   "cell_type": "code",
   "execution_count": null,
   "metadata": {
    "colab": {
     "base_uri": "https://localhost:8080/",
     "height": 129
    },
    "colab_type": "code",
    "id": "YvAdMkOSnGnc",
    "outputId": "0d7e0d3a-89a0-4583-d370-290090fff40f"
   },
   "outputs": [],
   "source": [
    "alt.Chart(df).mark_point(color='firebrick').encode(\n",
    "  alt.X('precip', scale=alt.Scale(type='log'), axis=alt.Axis(title='Log-Scaled Values')),\n",
    "  alt.Y('city', axis=alt.Axis(title='Category')),\n",
    ")"
   ]
  },
  {
   "cell_type": "markdown",
   "metadata": {
    "colab_type": "text",
    "id": "X0oQJ_rxpKSi"
   },
   "source": [
    "A subsequent module will explore the various options available for scales, axes, and legends to create customized charts."
   ]
  },
  {
   "cell_type": "markdown",
   "metadata": {
    "colab_type": "text",
    "id": "cvQINJf-rKpe"
   },
   "source": [
    "## Multiple Views\n",
    "\n",
    "As we've seen above, the Altair `Chart` object represents a plot with a single mark type. What about more complicated diagrams, involving multiple charts or layers? Using a set of *view composition* operators, Altair can take multiple chart definitions and combine them to create more complex views.\n",
    "\n",
    "As a starting point, let's plot the cars dataset in a line chart showing the average mileage by the year of manufacture:"
   ]
  },
  {
   "cell_type": "code",
   "execution_count": null,
   "metadata": {
    "colab": {
     "base_uri": "https://localhost:8080/",
     "height": 372
    },
    "colab_type": "code",
    "id": "qkvOKweFrxsk",
    "outputId": "7016a081-72d8-4266-e39d-117f65b1ec10"
   },
   "outputs": [],
   "source": [
    "alt.Chart(cars).mark_line().encode(\n",
    "    alt.X('Year'),\n",
    "    alt.Y('average(Miles_per_Gallon)')\n",
    ")"
   ]
  },
  {
   "cell_type": "markdown",
   "metadata": {
    "colab_type": "text",
    "id": "rRJCSnzSsLiA"
   },
   "source": [
    "To augment this plot, we might like to add `circle` marks for each averaged data point. (The `circle` mark is just a convenient shorthand for `point` marks that used filled circles.)\n",
    "\n",
    "We can start by defining each chart separately: first a line plot, then a scatter plot. We can then use the `layer` operator to combine the two into a layered chart. Here we use the shorthand `+` (plus) operator to invoke layering:"
   ]
  },
  {
   "cell_type": "code",
   "execution_count": null,
   "metadata": {
    "colab": {
     "base_uri": "https://localhost:8080/",
     "height": 372
    },
    "colab_type": "code",
    "id": "X2-e1e6GsX4c",
    "outputId": "323fccb1-44f9-4d9c-802d-843fe170e44c"
   },
   "outputs": [],
   "source": [
    "line = alt.Chart(cars).mark_line().encode(\n",
    "    alt.X('Year'),\n",
    "    alt.Y('average(Miles_per_Gallon)')\n",
    ")\n",
    "\n",
    "point = alt.Chart(cars).mark_circle().encode(\n",
    "    alt.X('Year'),\n",
    "    alt.Y('average(Miles_per_Gallon)')\n",
    ")\n",
    "\n",
    "line + point"
   ]
  },
  {
   "cell_type": "markdown",
   "metadata": {
    "colab_type": "text",
    "id": "psDs9QeiuJIW"
   },
   "source": [
    "We can also create this chart by *reusing* and *modifying* a previous chart definition! Rather than completely re-write a chart, we can start with the line chart, then invoke the `mark_point` method to generate a new chart definition with a different mark type:"
   ]
  },
  {
   "cell_type": "code",
   "execution_count": null,
   "metadata": {
    "colab": {
     "base_uri": "https://localhost:8080/",
     "height": 372
    },
    "colab_type": "code",
    "id": "bWjk0W4JuPbn",
    "outputId": "7ad87e04-3c6e-49f4-ac1d-15443f4a17e0"
   },
   "outputs": [],
   "source": [
    "mpg = alt.Chart(cars).mark_line().encode(\n",
    "    alt.X('Year'),\n",
    "    alt.Y('average(Miles_per_Gallon)')\n",
    ")\n",
    "\n",
    "mpg + mpg.mark_circle()"
   ]
  },
  {
   "cell_type": "markdown",
   "metadata": {
    "colab_type": "text",
    "id": "B9XZYa-zs8zy"
   },
   "source": [
    "<em>(The need to place points on lines is so common, the `line` mark also includes a shorthand to generate a new layer for you. Trying adding the argument `point=True` to the `mark_line` method!)</em>\n",
    "\n",
    "Now, what if we'd like to see this chart alongside other plots, such as the average horsepower over time?\n",
    "\n",
    "We can use *concatenation* operators to place multiple charts side-by-side, either vertically or horizontally. Here, we'll use the `|` (pipe) operator to perform horizontal concatenation of two charts:"
   ]
  },
  {
   "cell_type": "code",
   "execution_count": null,
   "metadata": {
    "colab": {
     "base_uri": "https://localhost:8080/",
     "height": 374
    },
    "colab_type": "code",
    "id": "dxxwxbwXtYFJ",
    "outputId": "67704231-d319-4869-8741-93ee6b8bf899"
   },
   "outputs": [],
   "source": [
    "hp = alt.Chart(cars).mark_line().encode(\n",
    "    alt.X('Year'),\n",
    "    alt.Y('average(Horsepower)')\n",
    ")\n",
    "\n",
    "(mpg + mpg.mark_circle()) | (hp + hp.mark_circle())"
   ]
  },
  {
   "cell_type": "markdown",
   "metadata": {
    "colab_type": "text",
    "id": "SsaRENE0vS4c"
   },
   "source": [
    "_We can see that, in this dataset, over the 1970s and early '80s the average fuel efficiency improved while the average horsepower decreased._\n",
    "\n",
    "A later notebook will focus on *view composition*, including not only layering and concatenation, but also the `facet` operator for splitting data into sub-plots and the `repeat` operator to concisely generate concatenated charts from a template."
   ]
  },
  {
   "cell_type": "markdown",
   "metadata": {
    "colab_type": "text",
    "id": "59XrVmENvueI"
   },
   "source": [
    "## Interactivity\n",
    "\n",
    "In addition to basic plotting and view composition, one of Altair and Vega-Lite's most exciting features is its support for interaction.\n",
    "\n",
    "To create a simple interactive plot that supports panning and zooming, we can invoke the `interactive()` method of the `Chart` object. In the chart below, click and drag to *pan* or use the scroll wheel to *zoom*:"
   ]
  },
  {
   "cell_type": "code",
   "execution_count": null,
   "metadata": {
    "colab": {
     "base_uri": "https://localhost:8080/",
     "height": 372
    },
    "colab_type": "code",
    "id": "NPrkvLBOJ4SA",
    "outputId": "a5fa630d-1087-4950-b386-0f7b6f274686"
   },
   "outputs": [],
   "source": [
    "alt.Chart(cars).mark_point().encode(\n",
    "    x='Horsepower',\n",
    "    y='Miles_per_Gallon',\n",
    "    color='Origin',\n",
    ").interactive()"
   ]
  },
  {
   "cell_type": "markdown",
   "metadata": {
    "colab_type": "text",
    "id": "bfAZnJLJwdjR"
   },
   "source": [
    "To provide more details upon mouse hover, we can use the `tooltip` encoding channel:"
   ]
  },
  {
   "cell_type": "code",
   "execution_count": null,
   "metadata": {
    "colab": {
     "base_uri": "https://localhost:8080/",
     "height": 372
    },
    "colab_type": "code",
    "id": "Mxtq1K7wwjLA",
    "outputId": "b4a70f94-3f4f-4d65-9901-dd0c97a8599d"
   },
   "outputs": [],
   "source": [
    "alt.Chart(cars).mark_point().encode(\n",
    "    x='Horsepower',\n",
    "    y='Miles_per_Gallon',\n",
    "    color='Origin',\n",
    "    tooltip=['Name', 'Origin'] # show Name and Origin in a tooltip\n",
    ").interactive()"
   ]
  },
  {
   "cell_type": "markdown",
   "metadata": {
    "colab_type": "text",
    "id": "YbBUIN2zw-Fg"
   },
   "source": [
    "For more complex interactions, such as linked charts and cross-filtering, Altair provides a *selection* abstraction for defining interactive selections and then binding them to components of a chart. We will cover this is in detail in a later notebook.\n",
    "\n",
    "Below is a more complex example. The upper histogram shows the count of cars per year and  uses an interactive selection to modify the opacity of points in the lower scatter plot, which shows horsepower versus mileage.\n",
    "\n",
    "_Drag out an interval in the upper chart and see how it affects the points in the lower chart. As you examine the code, **don't worry if parts don't make sense yet!** This is an aspirational example, and we will fill in all the needed details over the course of the different notebooks._"
   ]
  },
  {
   "cell_type": "code",
   "execution_count": null,
   "metadata": {
    "colab": {
     "base_uri": "https://localhost:8080/",
     "height": 454
    },
    "colab_type": "code",
    "id": "qTj6F82eJ4SF",
    "outputId": "45347968-1e73-4a01-e2c9-8d32795fd085"
   },
   "outputs": [],
   "source": [
    "# create an interval selection over an x-axis encoding\n",
    "brush = alt.selection_interval(encodings=['x'])\n",
    "\n",
    "# determine opacity based on brush\n",
    "opacity = alt.condition(brush, alt.value(0.9), alt.value(0.1))\n",
    "\n",
    "# an overview histogram of cars per year\n",
    "# add the interval brush to select cars over time\n",
    "overview = alt.Chart(cars).mark_bar().encode(\n",
    "    alt.X('Year:O', timeUnit='year', # extract year unit, treat as ordinal\n",
    "      axis=alt.Axis(title=None, labelAngle=0) # no title, no label angle\n",
    "    ),\n",
    "    alt.Y('count()', title=None), # counts, no axis title\n",
    "    opacity=opacity\n",
    ").add_selection(\n",
    "    brush      # add interval brush selection to the chart\n",
    ").properties(\n",
    "    width=400, # set the chart width to 400 pixels\n",
    "    height=50  # set the chart height to 50 pixels\n",
    ")\n",
    "\n",
    "# a detail scatterplot of horsepower vs. mileage\n",
    "# modulate point opacity based on the brush selection\n",
    "detail = alt.Chart(cars).mark_point().encode(\n",
    "    alt.X('Horsepower'),\n",
    "    alt.Y('Miles_per_Gallon'),\n",
    "    # set opacity based on brush selection\n",
    "    opacity=opacity\n",
    ").properties(width=400) # set chart width to match the first chart\n",
    "\n",
    "# vertically concatenate (vconcat) charts using the '&' operator\n",
    "overview & detail"
   ]
  },
  {
   "cell_type": "markdown",
   "metadata": {
    "colab_type": "text",
    "id": "e8iCl2O54efQ"
   },
   "source": [
    "## Aside: Examining the JSON Output\n",
    "\n",
    "As a Python API to Vega-Lite, Altair's main purpose is to convert plot specifications to a JSON string that conforms to the Vega-Lite schema. Using the `Chart.to_json` method, we can inspect the JSON specification that Altair is exporting and sending to Vega-Lite:"
   ]
  },
  {
   "cell_type": "code",
   "execution_count": null,
   "metadata": {
    "colab": {
     "base_uri": "https://localhost:8080/",
     "height": 1258
    },
    "colab_type": "code",
    "id": "yXgOEZ0S4vvZ",
    "outputId": "868d8f1c-16a0-45e2-c957-bf0a93502375"
   },
   "outputs": [],
   "source": [
    "chart = alt.Chart(df).mark_bar().encode(\n",
    "    x='average(precip)',\n",
    "    y='city',\n",
    ")\n",
    "print(chart.to_json())"
   ]
  },
  {
   "cell_type": "markdown",
   "metadata": {
    "colab_type": "text",
    "id": "mFYx22Mt444N"
   },
   "source": [
    "Notice here that `encode(x='average(precip)')` has been expanded to a JSON structure with a `field` name, a `type` for the data, and includes an `aggregate` field. The `encode(y='city')` statement has been expanded similarly.\n",
    "\n",
    "As we saw earlier, Altair's shorthand syntax includes a way to specify the type of the field as well:"
   ]
  },
  {
   "cell_type": "code",
   "execution_count": null,
   "metadata": {
    "colab": {
     "base_uri": "https://localhost:8080/",
     "height": 102
    },
    "colab_type": "code",
    "id": "ryrSJDWY5I5O",
    "outputId": "f4d88df7-3d8b-4b02-c12d-c9f154603f3d"
   },
   "outputs": [],
   "source": [
    "x = alt.X('average(precip):Q')\n",
    "print(x.to_json())"
   ]
  },
  {
   "cell_type": "markdown",
   "metadata": {
    "colab_type": "text",
    "id": "ZaDfx5rQ5Now"
   },
   "source": [
    "This short-hand is equivalent to spelling-out the attributes by name:"
   ]
  },
  {
   "cell_type": "code",
   "execution_count": null,
   "metadata": {
    "colab": {
     "base_uri": "https://localhost:8080/",
     "height": 102
    },
    "colab_type": "code",
    "id": "sNh-xcd55QX5",
    "outputId": "9b217b9f-32df-4245-9238-caf07b741700"
   },
   "outputs": [],
   "source": [
    "x = alt.X(aggregate='average', field='precip', type='quantitative')\n",
    "print(x.to_json())"
   ]
  },
  {
   "cell_type": "markdown",
   "metadata": {
    "colab_type": "text",
    "id": "EVG-NxDd5mxp"
   },
   "source": [
    "## Publishing a Visualization\n",
    "\n",
    "Once you have visualized your data, perhaps you would like to publish it somewhere on the web. This can be done straightforwardly using the [vega-embed JavaScript package](https://github.com/vega/vega-embed). A simple example of a stand-alone HTML document can be generated for any chart using the `Chart.save` method:\n",
    "\n",
    "```python\n",
    "chart = alt.Chart(df).mark_bar().encode(\n",
    "    x='average(precip)',\n",
    "    y='city',\n",
    ")\n",
    "chart.save('chart.html')\n",
    "```\n",
    "\n",
    "\n",
    "The basic HTML template produces output that looks like this, where the JSON specification for your plot produced by `Chart.to_json` should be stored in the `spec` JavaScript variable:\n",
    "\n",
    "```html\n",
    "<!DOCTYPE html>\n",
    "<html>\n",
    "  <head>\n",
    "    <script src=\"https://cdn.jsdelivr.net/npm/vega@5\"></script>\n",
    "    <script src=\"https://cdn.jsdelivr.net/npm/vega-lite@4\"></script>\n",
    "    <script src=\"https://cdn.jsdelivr.net/npm/vega-embed@6\"></script>\n",
    "  </head>\n",
    "  <body>\n",
    "  <div id=\"vis\"></div>\n",
    "  <script>\n",
    "    (function(vegaEmbed) {\n",
    "      var spec = {}; /* JSON output for your chart's specification */\n",
    "      var embedOpt = {\"mode\": \"vega-lite\"}; /* Options for the embedding */\n",
    "\n",
    "      function showError(el, error){\n",
    "          el.innerHTML = ('<div style=\"color:red;\">'\n",
    "                          + '<p>JavaScript Error: ' + error.message + '</p>'\n",
    "                          + \"<p>This usually means there's a typo in your chart specification. \"\n",
    "                          + \"See the javascript console for the full traceback.</p>\"\n",
    "                          + '</div>');\n",
    "          throw error;\n",
    "      }\n",
    "      const el = document.getElementById('vis');\n",
    "      vegaEmbed(\"#vis\", spec, embedOpt)\n",
    "        .catch(error => showError(el, error));\n",
    "    })(vegaEmbed);\n",
    "  </script>\n",
    "</body>\n",
    "</html>\n",
    " ```\n",
    "\n",
    "The `Chart.save` method provides a convenient way to save such HTML output to file. For more information on embedding Altair/Vega-Lite, see the [documentation of the vega-embed project](https://github.com/vega/vega-embed).\n"
   ]
  },
  {
   "cell_type": "markdown",
   "metadata": {
    "colab_type": "text",
    "id": "9qYv565xBZuM"
   },
   "source": [
    "## Next Steps\n",
    "\n",
    "🎉 Hooray, you've completed the introduction to Altair! In the next notebook, we will dive deeper into creating visualizations using Altair's model of data types, graphical marks, and visual encoding channels."
   ]
  }
 ],
 "metadata": {
  "kernelspec": {
   "display_name": "data-focused",
   "language": "python",
   "name": "python3"
  },
  "language_info": {
   "codemirror_mode": {
    "name": "ipython",
    "version": 3
   },
   "file_extension": ".py",
   "mimetype": "text/x-python",
   "name": "python",
   "nbconvert_exporter": "python",
   "pygments_lexer": "ipython3",
   "version": "3.10.8"
  },
  "vscode": {
   "interpreter": {
    "hash": "493831c336ccf55b3ce36bb223c330d15cbe9c5d71ebca7f20e83385245834ac"
   }
  }
 },
 "nbformat": 4,
 "nbformat_minor": 4
}
