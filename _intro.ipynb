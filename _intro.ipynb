{
 "cells": [
  {
   "attachments": {},
   "cell_type": "markdown",
   "metadata": {},
   "source": [
    "# Introduction\n",
    "\n",
    "A data visualization curriculum of interactive notebooks, using [Vega-Lite](https://vega.github.io/vega-lite/) and [Altair](https://altair-viz.github.io/). This book contains a series of Python-based Jupyter notebooks, a corresponding set of JavaScript notebooks are available online on [Observable](https://observablehq.com/@uwdata/data-visualization-curriculum).\n",
    "\n",
    "## Getting Started\n",
    "\n",
    "The visualization curriculum can be used either online or on your local computer. You can view and interact with the plots directly in this Jupyter Book. If you want to modify the code, you have a few different options:\n",
    "\n",
    "- To read Python notebooks locally, follow the instructions below.\n",
    "\n",
    "### Local Installation\n",
    "\n",
    "1. [Install Altair and a notebook environment](https://altair-viz.github.io/getting_started/installation.html). The most recent versions of these notebooks use _Altair version 4_.\n",
    "\n",
    "For this course, open a terminal, activate your conda environment and then issue:\n",
    "\n",
    "```conda install -c conda-forge altair vega_datasets```\n",
    "\n",
    "2. Open the notebooks in your local notebook environment. \n"
   ]
  },
  {
   "attachments": {},
   "cell_type": "markdown",
   "metadata": {},
   "source": [
    "# Data Visualization Curriculum\n",
    "\n",
    "## Curriculum\n",
    "\n",
    "### Table of Contents\n",
    "\n",
    "1. Introduction to Vega-Lite / Altair<br/>\n",
    "   <small>\n",
    "     [Jupyter](./altair_introduction.ipynb) |\n",
    "   </small>\n",
    "\n",
    "2. Data Types, Graphical Marks, and Visual Encoding Channels<br/>\n",
    "   <small>\n",
    "     [Jupyter](./altair_marks_encoding.ipynb) |\n",
    "   </small>\n",
    "\n",
    "3. Data Transformation<br/>\n",
    "   <small>\n",
    "     [Jupyter](./altair_data_transformation.ipynb) |\n",
    "   </small>\n",
    "\n",
    "4. Scales, Axes, and Legends<br/>\n",
    "   <small>\n",
    "     [Jupyter](./altair_scales_axes_legends.ipynb) |\n",
    "   </small>\n",
    "\n",
    "5. Multi-View Composition<br/>\n",
    "   <small>\n",
    "     [Jupyter](./altair_view_composition.ipynb) |\n",
    "   </small>\n",
    "\n",
    "6. Exploring<br/>\n",
    "   <small>\n",
    "     [Jupyter](./altair_exploring.ipynb) |\n",
    "   </small>\n",
    "\n",
    "7. Interaction<br/>\n",
    "   <small>\n",
    "     [Jupyter](./altair_interaction.ipynb) |\n",
    "   </small>\n",
    "\n",
    "8. Cartographic Visualization<br/>\n",
    "   <small>\n",
    "     [Jupyter](./altair_cartographic.ipynb) |\n",
    "   </small>\n",
    "\n",
    "### Support\n",
    "\n",
    "- Altair Debugging Guide<br/>\n",
    "  <small>\n",
    "     [Jupyter](./altair_debugging.ipynb) |\n",
    "  </small>"
   ]
  },
  {
   "attachments": {},
   "cell_type": "markdown",
   "metadata": {},
   "source": [
    "## Credits\n",
    "\n",
    "Developed at the University of Washington by Jeffrey Heer, Dominik Moritz, Jake VanderPlas, and Brock Craft. Thanks to the [UW Interactive Data Lab](https://idl.cs.washington.edu/) and Arvind Satyanarayan for their valuable input and feedback! Thanks also to the students of [UW CSE512 Spring 2019](https://courses.cs.washington.edu/courses/cse512/19sp/), the first group to use these notebooks within an integrated course curriculum.\n",
    "\n",
    "Adapted for course use by Ed Fine, 2023."
   ]
  },
  {
   "cell_type": "markdown",
   "metadata": {},
   "source": []
  }
 ],
 "metadata": {
  "kernelspec": {
   "display_name": "data-focused",
   "language": "python",
   "name": "python3"
  },
  "language_info": {
   "codemirror_mode": {
    "name": "ipython",
    "version": 3
   },
   "file_extension": ".py",
   "mimetype": "text/x-python",
   "name": "python",
   "nbconvert_exporter": "python",
   "pygments_lexer": "ipython3",
   "version": "3.10.8"
  },
  "orig_nbformat": 4,
  "vscode": {
   "interpreter": {
    "hash": "493831c336ccf55b3ce36bb223c330d15cbe9c5d71ebca7f20e83385245834ac"
   }
  }
 },
 "nbformat": 4,
 "nbformat_minor": 2
}
