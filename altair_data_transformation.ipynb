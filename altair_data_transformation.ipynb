{
 "cells": [
  {
   "cell_type": "markdown",
   "metadata": {
    "colab_type": "text",
    "id": "D8bsQl6JmfvJ"
   },
   "source": [
    "# Data Transformation\n",
    "\n",
    "In previous notebooks we learned how to use marks and visual encodings to represent individual data records. Here we will explore methods for *transforming* data, including the use of aggregates to summarize multiple records. Data transformation is an integral part of visualization: choosing the  variables to show and their level of detail is just as important as choosing appropriate visual encodings. After all, it doesn't matter how well chosen your visual encodings are if you are showing the wrong information!\n",
    "\n",
    "As you work through this module, we recommend that you open the [Altair Data Transformations documentation](https://altair-viz.github.io/user_guide/transform/index.html) in another tab. It will be a useful resource if at any point you'd like more details or want to see what other transformations are available.\n",
    "\n",
    "_This notebook is part of the [data visualization curriculum](https://github.com/uwdata/visualization-curriculum)._"
   ]
  },
  {
   "cell_type": "code",
   "execution_count": null,
   "metadata": {
    "colab": {},
    "colab_type": "code",
    "id": "zYMsJwmgJ4R7"
   },
   "outputs": [],
   "source": [
    "import pandas as pd\n",
    "import altair as alt"
   ]
  },
  {
   "cell_type": "markdown",
   "metadata": {
    "colab_type": "text",
    "id": "a7BV1iAjml7x"
   },
   "source": [
    "## The Movies Dataset"
   ]
  },
  {
   "cell_type": "markdown",
   "metadata": {
    "colab_type": "text",
    "id": "yYtrAahLV3eU"
   },
   "source": [
    "We will be working with a table of data about motion pictures, taken from the [vega-datasets](https://vega.github.io/vega-datasets/) collection. The data includes variables such as the film name, director, genre, release date, ratings, and gross revenues. However, _be careful when working with this data_: the films are from unevenly sampled years, using data combined from multiple sources. If you dig in you will find issues with missing values and even some subtle errors! Nevertheless, the data should prove interesting to explore...\n",
    "\n",
    "Let's retrieve the URL for the JSON data file from the vega_datasets package, and then read the data into a Pandas data frame so that we can inspect its contents."
   ]
  },
  {
   "cell_type": "code",
   "execution_count": null,
   "metadata": {
    "colab": {},
    "colab_type": "code",
    "id": "khT9YvmEicpo"
   },
   "outputs": [],
   "source": [
    "movies_url = 'https://cdn.jsdelivr.net/npm/vega-datasets@1/data/movies.json'\n",
    "movies = pd.read_json(movies_url)"
   ]
  },
  {
   "cell_type": "markdown",
   "metadata": {
    "colab_type": "text",
    "id": "P6wdIPQsXKHK"
   },
   "source": [
    "How many rows (records) and columns (fields) are in the movies dataset?"
   ]
  },
  {
   "cell_type": "code",
   "execution_count": null,
   "metadata": {
    "colab": {
     "base_uri": "https://localhost:8080/",
     "height": 34
    },
    "colab_type": "code",
    "id": "RR-fAxzmXM6H",
    "outputId": "4a4e1680-7da3-48e1-ba34-5129c433fbe1"
   },
   "outputs": [],
   "source": [
    "movies.shape"
   ]
  },
  {
   "cell_type": "markdown",
   "metadata": {
    "colab_type": "text",
    "id": "PZlB4ti1XCn1"
   },
   "source": [
    "Now let's peek at the first 5 rows of the table to get a sense of the fields and data types..."
   ]
  },
  {
   "cell_type": "code",
   "execution_count": null,
   "metadata": {
    "colab": {
     "base_uri": "https://localhost:8080/",
     "height": 445
    },
    "colab_type": "code",
    "id": "Oby1ngC7VoUL",
    "outputId": "a9b8b839-6428-4da3-db0c-041cb78b703d"
   },
   "outputs": [],
   "source": [
    "movies.head(5)"
   ]
  },
  {
   "cell_type": "markdown",
   "metadata": {
    "colab_type": "text",
    "id": "kDpfxknEl9dE"
   },
   "source": [
    "## Histograms\n",
    "\n",
    "We'll start our transformation tour by _binning_ data into discrete groups and _counting_ records to summarize those groups. The resulting plots are known as [_histograms_](https://en.wikipedia.org/wiki/Histogram).\n",
    "\n",
    "Let's first look at unaggregated data: a scatter plot showing movie ratings from Rotten Tomatoes versus ratings from IMDB users. We'll provide data to Altair by passing the movies data URL to the `Chart` method. (We could also pass the Pandas data frame directly to get the same result.) We can then encode the Rotten Tomatoes and IMDB ratings fields using the `x` and `y` channels:"
   ]
  },
  {
   "cell_type": "code",
   "execution_count": null,
   "metadata": {
    "colab": {
     "base_uri": "https://localhost:8080/",
     "height": 372
    },
    "colab_type": "code",
    "id": "NPrkvLBOJ4SA",
    "outputId": "29bcb73e-95cc-4d04-e854-d6b248570c22"
   },
   "outputs": [],
   "source": [
    "alt.Chart(movies_url).mark_circle().encode(\n",
    "    alt.X('Rotten_Tomatoes_Rating:Q'),\n",
    "    alt.Y('IMDB_Rating:Q')\n",
    ")"
   ]
  },
  {
   "cell_type": "markdown",
   "metadata": {
    "colab_type": "text",
    "id": "I3JZLmmTcYf-"
   },
   "source": [
    "To summarize this data, we can *bin* a data field to group numeric values into discrete groups. Here we bin along the x-axis by adding `bin=True` to the `x` encoding channel. The result is a set of ten bins of equal step size, each corresponding to a span of ten ratings points."
   ]
  },
  {
   "cell_type": "code",
   "execution_count": null,
   "metadata": {
    "colab": {
     "base_uri": "https://localhost:8080/",
     "height": 372
    },
    "colab_type": "code",
    "id": "qTj6F82eJ4SF",
    "outputId": "3b04da50-11d1-47b4-fa36-c131b41f5e22"
   },
   "outputs": [],
   "source": [
    "alt.Chart(movies_url).mark_circle().encode(\n",
    "    alt.X('Rotten_Tomatoes_Rating:Q', bin=True),\n",
    "    alt.Y('IMDB_Rating:Q')\n",
    ")"
   ]
  },
  {
   "cell_type": "markdown",
   "metadata": {
    "colab_type": "text",
    "id": "9GbuvhbxdEzL"
   },
   "source": [
    "Setting `bin=True` uses default binning settings, but we can exercise more control if desired. Let's instead set the maximum bin count (`maxbins`) to 20, which has the effect of doubling the number of bins. Now each bin corresponds to a span of five ratings points."
   ]
  },
  {
   "cell_type": "code",
   "execution_count": null,
   "metadata": {
    "colab": {
     "base_uri": "https://localhost:8080/",
     "height": 372
    },
    "colab_type": "code",
    "id": "JRYagm7tU2Yb",
    "outputId": "60e799d9-fe8d-4d2b-8081-aae7ae022571"
   },
   "outputs": [],
   "source": [
    "alt.Chart(movies_url).mark_circle().encode(\n",
    "    alt.X('Rotten_Tomatoes_Rating:Q', bin=alt.BinParams(maxbins=20)),\n",
    "    alt.Y('IMDB_Rating:Q')\n",
    ")"
   ]
  },
  {
   "cell_type": "markdown",
   "metadata": {
    "colab_type": "text",
    "id": "vKLumbced_yB"
   },
   "source": [
    "With the data binned, let's now summarize the distribution of Rotten Tomatoes ratings. We will drop the IMDB ratings for now and instead use the `y` encoding channel to show an aggregate `count` of records, so that the vertical position of each point indicates the number of movies per Rotten Tomatoes rating bin.\n",
    "\n",
    "As the `count` aggregate counts the number of total records in each bin regardless of the field values, we do not need to include a field name in the `y` encoding."
   ]
  },
  {
   "cell_type": "code",
   "execution_count": null,
   "metadata": {
    "colab": {
     "base_uri": "https://localhost:8080/",
     "height": 372
    },
    "colab_type": "code",
    "id": "NeutGiz8J664",
    "outputId": "dbae41cf-a7b4-4101-fd05-124519e4ece1"
   },
   "outputs": [],
   "source": [
    "alt.Chart(movies_url).mark_circle().encode(\n",
    "    alt.X('Rotten_Tomatoes_Rating:Q', bin=alt.BinParams(maxbins=20)),\n",
    "    alt.Y('count()')\n",
    ")"
   ]
  },
  {
   "cell_type": "markdown",
   "metadata": {
    "colab_type": "text",
    "id": "xBjv_RMeed0S"
   },
   "source": [
    "To arrive at a standard histogram, let's change the mark type from `circle` to `bar`:"
   ]
  },
  {
   "cell_type": "code",
   "execution_count": null,
   "metadata": {
    "colab": {
     "base_uri": "https://localhost:8080/",
     "height": 372
    },
    "colab_type": "code",
    "id": "6xOHaNlek0y4",
    "outputId": "6ab75a03-7150-4dbc-e42c-54879cf3252a"
   },
   "outputs": [],
   "source": [
    "alt.Chart(movies_url).mark_bar().encode(\n",
    "    alt.X('Rotten_Tomatoes_Rating:Q', bin=alt.BinParams(maxbins=20)),\n",
    "    alt.Y('count()')\n",
    ")"
   ]
  },
  {
   "cell_type": "markdown",
   "metadata": {
    "colab_type": "text",
    "id": "5pUVxMpMfKo9"
   },
   "source": [
    "_We can now examine the distribution of ratings more clearly: we can see fewer movies on the negative end, and a bit more movies on the high end, but a generally uniform distribution overall. Rotten Tomatoes ratings are determined by taking \"thumbs up\" and \"thumbs down\" judgments from film critics and calculating the percentage of positive reviews. It appears this approach does a good job of utilizing the full range of rating values._\n",
    "\n",
    "Similarly, we can create a histogram for IMDB ratings by changing the field in the `x` encoding channel:"
   ]
  },
  {
   "cell_type": "code",
   "execution_count": null,
   "metadata": {
    "colab": {
     "base_uri": "https://localhost:8080/",
     "height": 372
    },
    "colab_type": "code",
    "id": "7S9YSjoUlgAW",
    "outputId": "eb745925-3fdf-4ab7-b7c3-85875915a787"
   },
   "outputs": [],
   "source": [
    "alt.Chart(movies_url).mark_bar().encode(\n",
    "    alt.X('IMDB_Rating:Q', bin=alt.BinParams(maxbins=20)),\n",
    "    alt.Y('count()')\n",
    ")"
   ]
  },
  {
   "cell_type": "markdown",
   "metadata": {
    "colab_type": "text",
    "id": "7N1qzbq8f49r"
   },
   "source": [
    "_In contrast to the more uniform distribution we saw before, IMDB ratings exhibit a bell-shaped (though [negatively skewed](https://en.wikipedia.org/wiki/Skewness)) distribution. IMDB ratings are formed by averaging scores (ranging from 1 to 10) provided by the site's users. We can see that this form of measurement leads to a different shape than the Rotten Tomatoes ratings. We can also see that the mode of the distribution is between 6.5 and 7: people generally enjoy watching movies, potentially explaining the positive bias!_\n",
    "\n",
    "Now let's turn back to our scatter plot of Rotten Tomatoes and IMDB ratings. Here's what happens if we bin *both* axes of our original plot."
   ]
  },
  {
   "cell_type": "code",
   "execution_count": null,
   "metadata": {
    "colab": {
     "base_uri": "https://localhost:8080/",
     "height": 372
    },
    "colab_type": "code",
    "id": "IKdIT0xMlsjN",
    "outputId": "0150c261-da40-4fdf-bb80-053922187a06"
   },
   "outputs": [],
   "source": [
    "alt.Chart(movies_url).mark_circle().encode(\n",
    "    alt.X('Rotten_Tomatoes_Rating:Q', bin=alt.BinParams(maxbins=20)),\n",
    "    alt.Y('IMDB_Rating:Q', bin=alt.BinParams(maxbins=20)),\n",
    ")"
   ]
  },
  {
   "cell_type": "markdown",
   "metadata": {
    "colab_type": "text",
    "id": "l54nRdbjgMAm"
   },
   "source": [
    "Detail is lost due to *overplotting*, with many points drawn directly on top of each other.\n",
    "\n",
    "To form a two-dimensional histogram we can add a `count` aggregate as before. As both the `x` and `y` encoding channels are already taken, we must use a different encoding channel to convey the counts. Here is the result of using circular area by adding a *size* encoding channel."
   ]
  },
  {
   "cell_type": "code",
   "execution_count": null,
   "metadata": {
    "colab": {
     "base_uri": "https://localhost:8080/",
     "height": 372
    },
    "colab_type": "code",
    "id": "WDTzOh74l1S-",
    "outputId": "83941b77-0a16-49fc-b942-bf3e83991477"
   },
   "outputs": [],
   "source": [
    "alt.Chart(movies_url).mark_circle().encode(\n",
    "    alt.X('Rotten_Tomatoes_Rating:Q', bin=alt.BinParams(maxbins=20)),\n",
    "    alt.Y('IMDB_Rating:Q', bin=alt.BinParams(maxbins=20)),\n",
    "    alt.Size('count()')\n",
    ")"
   ]
  },
  {
   "cell_type": "markdown",
   "metadata": {
    "colab_type": "text",
    "id": "h5_SqrH6ghhB"
   },
   "source": [
    "Alternatively, we can encode counts using the `color` channel and change the mark type to `bar`. The result is a two-dimensional histogram in the form of a [*heatmap*](https://en.wikipedia.org/wiki/Heat_map)."
   ]
  },
  {
   "cell_type": "code",
   "execution_count": null,
   "metadata": {
    "colab": {
     "base_uri": "https://localhost:8080/",
     "height": 372
    },
    "colab_type": "code",
    "id": "y0YfNuE5kkcO",
    "outputId": "b3cb0222-97aa-490d-e405-0d4f4a09f094"
   },
   "outputs": [],
   "source": [
    "alt.Chart(movies_url).mark_bar().encode(\n",
    "    alt.X('Rotten_Tomatoes_Rating:Q', bin=alt.BinParams(maxbins=20)),\n",
    "    alt.Y('IMDB_Rating:Q', bin=alt.BinParams(maxbins=20)),\n",
    "    alt.Color('count()')\n",
    ")"
   ]
  },
  {
   "cell_type": "markdown",
   "metadata": {
    "colab_type": "text",
    "id": "NObIxgkv-mpt"
   },
   "source": [
    "Compare the *size* and *color*-based 2D histograms above. Which encoding do you think should be preferred? Why? In which plot can you more precisely compare the magnitude of individual values? In which plot can you more accurately see the overall density of ratings?"
   ]
  },
  {
   "cell_type": "markdown",
   "metadata": {
    "colab_type": "text",
    "id": "jMEDgVOcmLFX"
   },
   "source": [
    "## Aggregation\n",
    "\n",
    "Counts are just one type of aggregate. We might also calculate summaries using measures such as the `average`, `median`, `min`, or `max`. The Altair documentation includes the [full set of available aggregation functions](https://altair-viz.github.io/user_guide/encoding.html#encoding-aggregates).\n",
    "\n",
    "Let's look at some examples!"
   ]
  },
  {
   "cell_type": "markdown",
   "metadata": {
    "colab_type": "text",
    "id": "CfH7jndC_nCy"
   },
   "source": [
    "### Averages and Sorting\n",
    "\n",
    "_Do different genres of films receive consistently different ratings from critics?_ As a first step towards answering this question, we might examine the [*average* (a.k.a. the *arithmetic mean*)](https://en.wikipedia.org/wiki/Arithmetic_mean) rating for each genre of movie.\n",
    "\n",
    "Let's visualize genre along the `y` axis and plot `average` Rotten Tomatoes ratings along the `x` axis."
   ]
  },
  {
   "cell_type": "code",
   "execution_count": null,
   "metadata": {
    "colab": {
     "base_uri": "https://localhost:8080/",
     "height": 339
    },
    "colab_type": "code",
    "id": "VIvDbBiDmPyD",
    "outputId": "ce342b92-ef00-469a-f9ab-6e3288940ed5"
   },
   "outputs": [],
   "source": [
    "alt.Chart(movies_url).mark_bar().encode(\n",
    "    alt.X('average(Rotten_Tomatoes_Rating):Q'),\n",
    "    alt.Y('Major_Genre:N')\n",
    ")"
   ]
  },
  {
   "cell_type": "markdown",
   "metadata": {
    "colab_type": "text",
    "id": "G92q1OdxnjdS"
   },
   "source": [
    "_There does appear to be some interesting variation, but looking at the data as an alphabetical list is not very helpful for ranking critical reactions to the genres._\n",
    "\n",
    "For a tidier picture, let's sort the genres in descending order of average rating. To do so, we will add a `sort` parameter to the `y` encoding channel, stating that we wish to sort by the *average* (`op`, the aggregate operation) Rotten Tomatoes rating (the `field`) in descending `order`."
   ]
  },
  {
   "cell_type": "code",
   "execution_count": null,
   "metadata": {
    "colab": {
     "base_uri": "https://localhost:8080/",
     "height": 339
    },
    "colab_type": "code",
    "id": "Oge7kcjUncLs",
    "outputId": "7cd1438a-1bda-4fd1-ad81-78ae206206c8"
   },
   "outputs": [],
   "source": [
    "alt.Chart(movies_url).mark_bar().encode(\n",
    "    alt.X('average(Rotten_Tomatoes_Rating):Q'),\n",
    "    alt.Y('Major_Genre:N', sort=alt.EncodingSortField(\n",
    "        op='average', field='Rotten_Tomatoes_Rating', order='descending')\n",
    "    )\n",
    ")"
   ]
  },
  {
   "cell_type": "markdown",
   "metadata": {},
   "source": [
    "_The sorted plot suggests that critics think highly of documentaries, musicals, westerns, and dramas, but look down upon romantic comedies and horror films... and who doesn't love `null` movies!?_"
   ]
  },
  {
   "cell_type": "markdown",
   "metadata": {
    "colab_type": "text",
    "id": "i6jWJ-HOpF_-"
   },
   "source": [
    "### Medians and the Inter-Quartile Range\n",
    "\n",
    "While averages are a common way to summarize data, they can sometimes mislead. For example, very large or very small values ([*outliers*](https://en.wikipedia.org/wiki/Outlier)) might skew the average. To be safe, we can compare the genres according to the [*median*](https://en.wikipedia.org/wiki/Median) ratings as well.\n",
    "\n",
    "The median is a point that splits the data evenly, such that half of the values are less than the median and the other half are greater. The median is less sensitive to outliers and so is referred to as a [*robust* statistic](https://en.wikipedia.org/wiki/Robust_statistics). For example, arbitrarily increasing the largest rating value will not cause the median to change.\n",
    "\n",
    "Let's update our plot to use a `median` aggregate and sort by those values:"
   ]
  },
  {
   "cell_type": "code",
   "execution_count": null,
   "metadata": {
    "colab": {
     "base_uri": "https://localhost:8080/",
     "height": 339
    },
    "colab_type": "code",
    "id": "9npR5D_EpXMJ",
    "outputId": "ad4b2684-8608-4372-9931-e56128e1046e"
   },
   "outputs": [],
   "source": [
    "alt.Chart(movies_url).mark_bar().encode(\n",
    "    alt.X('median(Rotten_Tomatoes_Rating):Q'),\n",
    "    alt.Y('Major_Genre:N', sort=alt.EncodingSortField(\n",
    "        op='median', field='Rotten_Tomatoes_Rating', order='descending')\n",
    "    )\n",
    ")"
   ]
  },
  {
   "cell_type": "markdown",
   "metadata": {
    "colab_type": "text",
    "id": "eRBgJiXcp6DX"
   },
   "source": [
    "_We can see that some of the genres with similar averages have swapped places (films of unknown genre, or `null`, are now rated highest!), but the overall groups have stayed stable. Horror films continue to get little love from professional film critics._\n",
    "\n",
    "It's a good idea to stay skeptical when viewing aggregate statistics. So far we've only looked at *point estimates*. We have not examined how ratings vary within a genre.\n",
    "\n",
    "Let's visualize the variation among the ratings to add some nuance to our rankings. Here we will encode the [*inter-quartile range* (IQR)](https://en.wikipedia.org/wiki/Interquartile_range) for each genre. The IQR is the range in which the middle half of data values reside. A [*quartile*](https://en.wikipedia.org/wiki/Quartile) contains 25% of the data values. The inter-quartile range consists of the two middle quartiles, and so contains the middle 50%. \n",
    "\n",
    "To visualize ranges, we can use the `x` and `x2` encoding channels to indicate the starting and ending points. We use the aggregate functions `q1` (the lower quartile boundary) and `q3` (the upper quartile boundary) to provide the inter-quartile range. (In case you are wondering, *q2* would be the median.)"
   ]
  },
  {
   "cell_type": "code",
   "execution_count": null,
   "metadata": {
    "colab": {
     "base_uri": "https://localhost:8080/",
     "height": 339
    },
    "colab_type": "code",
    "id": "vJaDc25rqWPv",
    "outputId": "a2cf93b2-3d0b-4412-b609-2e40c86a9d8d"
   },
   "outputs": [],
   "source": [
    "alt.Chart(movies_url).mark_bar().encode(\n",
    "    alt.X('q1(Rotten_Tomatoes_Rating):Q'),\n",
    "    alt.X2('q3(Rotten_Tomatoes_Rating):Q'),\n",
    "    alt.Y('Major_Genre:N', sort=alt.EncodingSortField(\n",
    "        op='median', field='Rotten_Tomatoes_Rating', order='descending')\n",
    "    )\n",
    ")"
   ]
  },
  {
   "cell_type": "markdown",
   "metadata": {
    "colab_type": "text",
    "id": "gUwvZzKqsRGr"
   },
   "source": [
    "### Time Units\n",
    "\n",
    "_Now let's ask a completely different question: do box office returns vary by season?_\n",
    "\n",
    "To get an initial answer, let's plot the median U.S. gross revenue by month.\n",
    "\n",
    "To make this chart, use the `timeUnit` transform to map release dates to the `month` of the year. The result is similar to binning, but using meaningful time intervals. Other valid time units include `year`, `quarter`, `date` (numeric day in month), `day` (day of the week), and `hours`, as well as compound units such as `yearmonth` or `hoursminutes`. See the Altair documentation for a [complete list of time units](https://altair-viz.github.io/user_guide/transform/timeunit.html#user-guide-timeunit-transform)."
   ]
  },
  {
   "cell_type": "code",
   "execution_count": null,
   "metadata": {
    "colab": {
     "base_uri": "https://localhost:8080/",
     "height": 372
    },
    "colab_type": "code",
    "id": "fcAsPlezscPl",
    "outputId": "f3f22ce9-7823-4b1e-ade6-3a14295de6ed"
   },
   "outputs": [],
   "source": [
    "alt.Chart(movies_url).mark_area().encode(\n",
    "    alt.X('month(Release_Date):T'),\n",
    "    alt.Y('median(US_Gross):Q')\n",
    ")"
   ]
  },
  {
   "cell_type": "markdown",
   "metadata": {
    "colab_type": "text",
    "id": "7Oh_slUruKBx"
   },
   "source": [
    "_Looking at the resulting plot, median movie sales in the U.S. appear to spike around the summer blockbuster season and the end of year holiday period. Of course, people around the world (not just the U.S.) go out to the movies. Does a similar pattern arise for worldwide gross revenue?_"
   ]
  },
  {
   "cell_type": "code",
   "execution_count": null,
   "metadata": {
    "colab": {
     "base_uri": "https://localhost:8080/",
     "height": 372
    },
    "colab_type": "code",
    "id": "HO5Y5oszuQnZ",
    "outputId": "158d5b83-19a8-414e-eaa4-e30739ec8881"
   },
   "outputs": [],
   "source": [
    "alt.Chart(movies_url).mark_area().encode(\n",
    "    alt.X('month(Release_Date):T'),\n",
    "    alt.Y('median(Worldwide_Gross):Q')\n",
    ")"
   ]
  },
  {
   "cell_type": "markdown",
   "metadata": {},
   "source": [
    "_Yes!_"
   ]
  },
  {
   "cell_type": "markdown",
   "metadata": {
    "colab_type": "text",
    "id": "QKPF4VfRmQVL"
   },
   "source": [
    "## Advanced Data Transformation\n",
    "\n",
    "The examples above all use transformations (*bin*, *timeUnit*, *aggregate*, *sort*) that are defined relative to an encoding channel. However, at times you may want to apply a chain of multiple transformations prior to visualization, or use transformations that don't integrate into encoding definitions. For such cases, Altair and Vega-Lite support data transformations defined separately from encodings. These transformations are applied to the data *before* any encodings are considered.\n",
    "\n",
    "We *could* also perform transformations using Pandas directly, and then visualize the result. However, using the built-in transforms allows our visualizations to be published more easily in other contexts; for example, exporting the Vega-Lite JSON to use in a stand-alone web interface. Let's look at the built-in transforms supported by Altair, such as `calculate`, `filter`, `aggregate`, and `window`."
   ]
  },
  {
   "cell_type": "markdown",
   "metadata": {
    "colab_type": "text",
    "id": "fJhuy44gua1I"
   },
   "source": [
    "### Calculate\n",
    "\n",
    "_Think back to our comparison of U.S. gross and worldwide gross. Doesn't worldwide revenue include the U.S.? (Indeed it does.) How might we get a better sense of trends outside the U.S.?_\n",
    "\n",
    "With the `calculate` transform we can derive new fields. Here we want to subtract U.S. gross from worldwide gross. The `calculate` transform takes a [Vega expression string](https://vega.github.io/vega/docs/expressions/) to define a formula over a single record. Vega expressions use JavaScript syntax. The `datum.` prefix accesses a field value on the input record."
   ]
  },
  {
   "cell_type": "code",
   "execution_count": null,
   "metadata": {
    "colab": {
     "base_uri": "https://localhost:8080/",
     "height": 372
    },
    "colab_type": "code",
    "id": "fH-ot7TwmWgl",
    "outputId": "f8d99c87-d8fd-4e6d-d63a-6e6ba35fc92c"
   },
   "outputs": [],
   "source": [
    "alt.Chart(movies).mark_area().transform_calculate(\n",
    "    NonUS_Gross='datum.Worldwide_Gross - datum.US_Gross'\n",
    ").encode(\n",
    "    alt.X('month(Release_Date):T'),\n",
    "    alt.Y('median(NonUS_Gross):Q')\n",
    ")"
   ]
  },
  {
   "cell_type": "markdown",
   "metadata": {},
   "source": [
    "_We can see that seasonal trends hold outside the U.S., but with a more pronounced decline in the non-peak months._"
   ]
  },
  {
   "cell_type": "markdown",
   "metadata": {
    "colab_type": "text",
    "id": "kAbeNGsUxzGu"
   },
   "source": [
    "### Filter\n",
    "\n",
    "The *filter* transform creates a new table with a subset of the original data, removing rows that fail to meet a provided [*predicate*](https://en.wikipedia.org/wiki/Predicate_%28mathematical_logic%29) test. Similar to the *calculate* transform, filter predicates are expressed using the [Vega expression language](https://vega.github.io/vega/docs/expressions/).\n",
    "\n",
    "Below we add a filter to limit our initial scatter plot of IMDB vs. Rotten Tomatoes ratings to only films in the major genre of \"Romantic Comedy\"."
   ]
  },
  {
   "cell_type": "code",
   "execution_count": null,
   "metadata": {
    "colab": {
     "base_uri": "https://localhost:8080/",
     "height": 372
    },
    "colab_type": "code",
    "id": "PMynF2J1X9NT",
    "outputId": "7b3b674d-8fda-4480-ebcf-45a29f37d856"
   },
   "outputs": [],
   "source": [
    "alt.Chart(movies_url).mark_circle().encode(\n",
    "    alt.X('Rotten_Tomatoes_Rating:Q'),\n",
    "    alt.Y('IMDB_Rating:Q')\n",
    ").transform_filter('datum.Major_Genre == \"Romantic Comedy\"')"
   ]
  },
  {
   "cell_type": "markdown",
   "metadata": {
    "colab_type": "text",
    "id": "aAhgCPE8ZB_1"
   },
   "source": [
    "_How does the plot change if we filter to view other genres? Edit the filter expression to find out._\n",
    "\n",
    "Now let's filter to look at films released before 1970."
   ]
  },
  {
   "cell_type": "code",
   "execution_count": null,
   "metadata": {
    "colab": {
     "base_uri": "https://localhost:8080/",
     "height": 372
    },
    "colab_type": "code",
    "id": "gNXhFhGoYz1P",
    "outputId": "21b6bbd9-3804-4650-f06a-5c5a9fe2b09f"
   },
   "outputs": [],
   "source": [
    "alt.Chart(movies_url).mark_circle().encode(\n",
    "    alt.X('Rotten_Tomatoes_Rating:Q'),\n",
    "    alt.Y('IMDB_Rating:Q')\n",
    ").transform_filter('year(datum.Release_Date) < 1970')"
   ]
  },
  {
   "cell_type": "markdown",
   "metadata": {},
   "source": [
    "_They seem to score unusually high! Are older films simply better, or is there a [selection bias](https://en.wikipedia.org/wiki/Selection%5Fbias) towards more highly-rated older films in this dataset?_"
   ]
  },
  {
   "cell_type": "markdown",
   "metadata": {
    "colab_type": "text",
    "id": "FbWJVcvi-VRJ"
   },
   "source": [
    "### Aggregate\n",
    "\n",
    "We have already seen `aggregate` transforms such as `count` and `average`  in the context of encoding channels. We can also specify aggregates separately, as a pre-processing step for other transforms (as in the `window` transform examples below). The output of an `aggregate` transform is a new data table with records that contain both the `groupby` fields and the computed `aggregate` measures.\n",
    "\n",
    "Let's recreate our plot of average ratings by genre, but this time using a separate `aggregate` transform. The output table from the aggregate transform contains 13 rows, one for each genre.\n",
    "\n",
    "To order the `y` axis we must include a required aggregate operation in our sorting instructions. Here we use the `max` operator, which works fine because there is only one output record per genre. We could similarly use the `min` operator and end up with the same plot."
   ]
  },
  {
   "cell_type": "code",
   "execution_count": null,
   "metadata": {
    "colab": {
     "base_uri": "https://localhost:8080/",
     "height": 339
    },
    "colab_type": "code",
    "id": "31FWLbxc-yxv",
    "outputId": "9044ac17-3789-4416-b36d-2ffa7451c20b"
   },
   "outputs": [],
   "source": [
    "alt.Chart(movies_url).mark_bar().transform_aggregate(\n",
    "    groupby=['Major_Genre'],\n",
    "    Average_Rating='average(Rotten_Tomatoes_Rating)'\n",
    ").encode(\n",
    "    alt.X('Average_Rating:Q'),\n",
    "    alt.Y('Major_Genre:N', sort=alt.EncodingSortField(\n",
    "        op='max', field='Average_Rating', order='descending'\n",
    "      )\n",
    "    )\n",
    ")"
   ]
  },
  {
   "cell_type": "markdown",
   "metadata": {
    "colab_type": "text",
    "id": "qzjUD3bvx8Cn"
   },
   "source": [
    "### Window\n",
    "\n",
    "The `window` transform performs calculations over sorted groups of data records. Window transforms are quite powerful, supporting tasks such as ranking, lead/lag analysis, cumulative totals, and running sums or averages. Values calculated by a `window` transform are written back to the input data table as new fields. Window operations include the aggregate operations we've seen earlier, as well as specialized operations such as `rank`, `row_number`, `lead`, and `lag`. The Vega-Lite documentation lists [all valid window operations](https://vega.github.io/vega-lite/docs/window.html#ops).\n",
    "\n",
    "One use case for a `window` transform is to calculate top-k lists. Let's plot the top 20 directors in terms of total worldwide gross.\n",
    "\n",
    "We first use a `filter` transform to remove records for which we don't know the director. Otherwise, the director `null` would dominate the list! We then apply an `aggregate` to sum up the worldwide gross for all films, grouped by director. At this point we could plot a sorted bar chart, but we'd end up with hundreds and hundreds of directors. How can we limit the display to the top 20?\n",
    "\n",
    "The `window` transform allows us to determine the top directors by calculating their rank order. Within our `window` transform definition we can `sort` by gross and use the `rank` operation to calculate rank scores according to that sort order. We can then add a subsequent `filter` transform to limit the data to only records with a rank value less than or equal to 20."
   ]
  },
  {
   "cell_type": "code",
   "execution_count": null,
   "metadata": {
    "colab": {
     "base_uri": "https://localhost:8080/",
     "height": 465
    },
    "colab_type": "code",
    "id": "wEE4sJa7j1lS",
    "outputId": "8de759fd-0b3e-482b-cf10-9fb37342a544"
   },
   "outputs": [],
   "source": [
    "alt.Chart(movies_url).mark_bar().transform_filter(\n",
    "    'datum.Director != null'\n",
    ").transform_aggregate(\n",
    "    Gross='sum(Worldwide_Gross)',\n",
    "    groupby=['Director']\n",
    ").transform_window(\n",
    "    Rank='rank()',\n",
    "    sort=[alt.SortField('Gross', order='descending')]\n",
    ").transform_filter(\n",
    "    'datum.Rank < 20'\n",
    ").encode(\n",
    "    alt.X('Gross:Q'),\n",
    "    alt.Y('Director:N', sort=alt.EncodingSortField(\n",
    "        op='max', field='Gross', order='descending'\n",
    "    ))\n",
    ")"
   ]
  },
  {
   "cell_type": "markdown",
   "metadata": {
    "colab_type": "text",
    "id": "g0wzX3lAohY3"
   },
   "source": [
    "_We can see that Steven Spielberg has been quite successful in his career! However, showing sums might favor directors who have had longer careers, and so have made more movies and thus more money. What happens if we change the choice of aggregate operation? Who is the most successful director in terms of  `average` or `median` gross per film? Modify the aggregate transform above!_\n",
    "\n",
    "Earlier in this notebook we looked at histograms, which approximate the [*probability density function*](https://en.wikipedia.org/wiki/Probability_density_function) of a set of values. A complementary approach is to look at the [*cumulative distribution*](https://en.wikipedia.org/wiki/Cumulative_distribution_function). For example, think of a histogram in which each bin includes not only its own count but also the counts from all previous bins &mdash; the result is a _running total_, with the last bin containing the total number of records. A cumulative chart directly shows us, for a given reference value, how many data values are less than or equal to that reference.\n",
    "\n",
    "As a concrete example, let's look at the cumulative distribution of films by running time (in minutes). Only a subset of records actually include running time information, so we first `filter` down to the subset of films for which we have running times. Next, we apply an `aggregate` to count the number of films per duration (implicitly using \"bins\" of 1 minute each). We then use a `window` transform to compute a running total of counts across bins, sorted by increasing running time."
   ]
  },
  {
   "cell_type": "code",
   "execution_count": null,
   "metadata": {
    "colab": {
     "base_uri": "https://localhost:8080/",
     "height": 366
    },
    "colab_type": "code",
    "id": "2uIdl9qTey9r",
    "outputId": "9c20912b-a865-4ef5-b915-bc4317ba93bf"
   },
   "outputs": [],
   "source": [
    "alt.Chart(movies_url).mark_line(interpolate='step-before').transform_filter(\n",
    "    'datum.Running_Time_min != null'\n",
    ").transform_aggregate(\n",
    "    groupby=['Running_Time_min'],\n",
    "    Count='count()',\n",
    ").transform_window(\n",
    "    Cumulative_Sum='sum(Count)',\n",
    "    sort=[alt.SortField('Running_Time_min', order='ascending')]\n",
    ").encode(\n",
    "    alt.X('Running_Time_min:Q', axis=alt.Axis(title='Duration (min)')),\n",
    "    alt.Y('Cumulative_Sum:Q', axis=alt.Axis(title='Cumulative Count of Films'))\n",
    ")"
   ]
  },
  {
   "cell_type": "markdown",
   "metadata": {},
   "source": [
    "_Let's examine the cumulative distribution of film lengths. We can see that films under 110 minutes make up about half of all the films for which we have running times. We see a steady accumulation of films between 90 minutes and 2 hours, after which the distribution begins to taper off. Though rare, the dataset does contain multiple films more than 3 hours long!_"
   ]
  },
  {
   "cell_type": "markdown",
   "metadata": {
    "colab_type": "text",
    "id": "qQYp2jnoXJ1H"
   },
   "source": [
    "## Summary\n",
    "\n",
    "We've only scratched the surface of what data transformations can do! For more details, including all the available transformations and their parameters, see the [Altair data transformation documentation](https://altair-viz.github.io/user_guide/transform.html).\n",
    "\n",
    "Sometimes you will need to perform significant data transformation to prepare your data _prior_ to using visualization tools. To engage in [_data wrangling_](https://en.wikipedia.org/wiki/Data_wrangling) right here in Python, you can use the [Pandas library](https://pandas.pydata.org/)."
   ]
  }
 ],
 "metadata": {
  "kernelspec": {
   "display_name": "data-focused",
   "language": "python",
   "name": "python3"
  },
  "language_info": {
   "codemirror_mode": {
    "name": "ipython",
    "version": 3
   },
   "file_extension": ".py",
   "mimetype": "text/x-python",
   "name": "python",
   "nbconvert_exporter": "python",
   "pygments_lexer": "ipython3",
   "version": "3.10.8"
  },
  "vscode": {
   "interpreter": {
    "hash": "493831c336ccf55b3ce36bb223c330d15cbe9c5d71ebca7f20e83385245834ac"
   }
  }
 },
 "nbformat": 4,
 "nbformat_minor": 4
}
